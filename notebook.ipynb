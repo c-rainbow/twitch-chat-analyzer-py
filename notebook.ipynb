{
 "cells": [
  {
   "cell_type": "code",
   "execution_count": null,
   "metadata": {},
   "outputs": [],
   "source": [
    "from twitch_chat_analyzer import analyzer\n",
    "\n",
    "# Create an analyzer object from video ID.\n",
    "# Video ID is the last part of the video URL (1234567890 in https://www.twitch.tv/videos/1234567890)\n",
    "# If the chat log was not downloaded before, it will download automatically and create an analyzer.\n",
    "ann = analyzer.FromVideoId('REPLACE_HERE_TO_VIDEO_ID')\n",
    "\n",
    "# Some pre-built statistics functions to draw graph\n",
    "ann.DrawChatPerMinute(10)  # Chat counts for each N-minute interval\n",
    "ann.DrawTopChatters(20)  # Top N viewers with most chats\n",
    "ann.DrawTopEmotes(15)  # Top N most used emotes\n",
    "\n",
    "# If you just want to get the data\n",
    "ann.GetChatPerMinute(10)  # Chat counts for each 10-minute interval, list of (offset, count)\n",
    "ann.GetTopChatters()  # Viewer names and chat counts, list of (name, chat_count), sorted by chat count\n",
    "ann.GetEmoteCounts()  # Emotes and usage counts, list of (emote_name, count), sorted by count\n",
    "\n",
    "# If you want to handle dataframe yourself\n",
    "df = ann.ToDataFrame()\n",
    "\n",
    "# Some useful functions to deal with dataframe\n",
    "df[df['is_sub_notice']]  # Show new/renew subscription notice messages\n",
    "df[df['bits'] > 0]  # Show messages with bits\n",
    "df['text_body'].apply(len).mean()  # Average chat length (excluding emotes)\n"
   ]
  }
 ],
 "metadata": {
  "kernelspec": {
   "display_name": "Python 3",
   "language": "python",
   "name": "python3"
  },
  "language_info": {
   "codemirror_mode": {
    "name": "ipython",
    "version": 3
   },
   "file_extension": ".py",
   "mimetype": "text/x-python",
   "name": "python",
   "nbconvert_exporter": "python",
   "pygments_lexer": "ipython3",
   "version": "3.9.0"
  }
 },
 "nbformat": 4,
 "nbformat_minor": 4
}
