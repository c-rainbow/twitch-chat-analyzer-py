{
 "cells": [
  {
   "cell_type": "code",
   "execution_count": null,
   "metadata": {},
   "outputs": [],
   "source": [
    "from twitch_chat_analyzer import analyzer\n",
    "\n",
    "# Create an analyzer object from video ID.\n",
    "# If the chat log was not downloaded before, it will download automatically and create an analyzer.\n",
    "ann = analyzer.FromVideoId('REPLACE_HERE_TO_VIDEO_ID')\n",
    "\n",
    "# Some pre-built statistics functions to draw graph\n",
    "ann.DrawChatPerMinutes(10)  # Chat counts for each 10-minute interval\n",
    "ann.DrawTopChatters(20)  # Top 20 viewers with most chats\n",
    "ann.DrawTopEmotes(15)  # Top 15 most used emotes\n",
    "\n",
    "# If you just want to get the data\n",
    "ann.GetChatPerMinutes(10)  # Chat counts for each 10-minute interval, list of (offset, count)\n",
    "ann.GetTopChatters(20)  # Top 20 viewers with most chats, list of (name, chat_count)\n",
    "ann.GetTopEmotes(15)  # Top 15 most used emotes, list of (emote_name, count)\n",
    "\n",
    "# If you want to handle dataframe yourself\n",
    "df = ann.ToDataFrame()\n",
    "# Some useful functions to deal with dataframe\n",
    "df[df['is_sub_notice']]  # Show new/renew subscription notice messages\n",
    "df[df['bits'] > 0]  # Show messages with bits\n",
    "df[['text_body']].mean()  # Average chat length (excluding emotes)\n"
   ]
  }
 ],
 "metadata": {
  "kernelspec": {
   "display_name": "Python 3",
   "language": "python",
   "name": "python3"
  },
  "language_info": {
   "codemirror_mode": {
    "name": "ipython",
    "version": 3
   },
   "file_extension": ".py",
   "mimetype": "text/x-python",
   "name": "python",
   "nbconvert_exporter": "python",
   "pygments_lexer": "ipython3",
   "version": "3.9.0"
  }
 },
 "nbformat": 4,
 "nbformat_minor": 4
}
